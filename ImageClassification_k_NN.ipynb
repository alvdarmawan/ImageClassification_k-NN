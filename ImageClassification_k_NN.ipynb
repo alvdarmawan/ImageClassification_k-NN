{
  "nbformat": 4,
  "nbformat_minor": 0,
  "metadata": {
    "colab": {
      "name": "ImageClassification_k-NN.ipynb",
      "provenance": [],
      "collapsed_sections": [],
      "mount_file_id": "1rHj3f1MHmEuEkItoPu8otqhaAP2gu3IG",
      "authorship_tag": "ABX9TyM2D+7ybndYw/LyKkf93nOp",
      "include_colab_link": true
    },
    "kernelspec": {
      "display_name": "Python 3",
      "name": "python3"
    }
  },
  "cells": [
    {
      "cell_type": "markdown",
      "metadata": {
        "id": "view-in-github",
        "colab_type": "text"
      },
      "source": [
        "<a href=\"https://colab.research.google.com/github/alvdarmawan/ImageClassification_k-NN/blob/main/ImageClassification_k_NN.ipynb\" target=\"_parent\"><img src=\"https://colab.research.google.com/assets/colab-badge.svg\" alt=\"Open In Colab\"/></a>"
      ]
    },
    {
      "cell_type": "code",
      "metadata": {
        "colab": {
          "background_save": true
        },
        "id": "g4mdK24bTCwf"
      },
      "source": [
        "cd /content/drive/MyDrive/Colab Notebooks"
      ],
      "execution_count": null,
      "outputs": []
    },
    {
      "cell_type": "code",
      "metadata": {
        "colab": {
          "background_save": true
        },
        "id": "QRbeA8FXTjtD"
      },
      "source": [
        "ls"
      ],
      "execution_count": null,
      "outputs": []
    },
    {
      "cell_type": "code",
      "metadata": {
        "colab": {
          "background_save": true
        },
        "id": "W_dQ2JR5Tlm1"
      },
      "source": [
        "import numpy as np\n",
        "from keras.preprocessing import image\n",
        "import cv2 as cv\n",
        "import matplotlib.pyplot as plt\n",
        "from pathlib import Path\n",
        "from sklearn.model_selection import GridSearchCV, train_test_split\n",
        "from skimage.io import imread\n",
        "print(\"Files imported successfully!\")\n",
        "\n",
        "import pandas as pd\n",
        "import warnings\n",
        "warnings.filterwarnings('ignore')\n",
        "pd.set_option('display.max_columns', 30*30 + 1)"
      ],
      "execution_count": null,
      "outputs": []
    },
    {
      "cell_type": "code",
      "metadata": {
        "colab": {
          "base_uri": "https://localhost:8080/"
        },
        "id": "y7LSmCVeT1nF",
        "outputId": "9d6f5cbd-21d0-4056-a646-7ae6cfb8f4dc"
      },
      "source": [
        "def load_image_files(container_path, dimension=(64, 64)):\n",
        "    image_dir = Path(container_path)\n",
        "    folders = [directory for directory in image_dir.iterdir() if directory.is_dir()]\n",
        "    categories = [fo.name for fo in folders]\n",
        "\n",
        "    descr = \"An image classification dataset\"\n",
        "    images = []\n",
        "    flat_data = []\n",
        "    target = []\n",
        "    count = 0\n",
        "    train_img = []\n",
        "    for i, direc in enumerate(folders):\n",
        "        for file in direc.iterdir():\n",
        "            count += 1\n",
        "            img = imread(file)\n",
        "            img = cv.cvtColor(img, cv.COLOR_BGR2GRAY)\n",
        "            img_pred = cv.resize(img, (50, 50), interpolation=cv.INTER_AREA)\n",
        "            img_pred = image.img_to_array(img_pred)\n",
        "            img_pred = img_pred / 255\n",
        "            train_img.append(img_pred)\n",
        "\n",
        "    X = np.array(train_img)\n",
        "\n",
        "    return X\n",
        "\n",
        "X = []\n",
        "X = load_image_files(\"3scene\")\n",
        "\n",
        "y0 = np.zeros(360)\n",
        "y1 = np.ones(328)\n",
        "y2 = np.zeros(260)\n",
        "\n",
        "y = []\n",
        "y = np.concatenate((y0,y1,y2), axis=0)\n",
        "X_train, X_test, y_train, y_test = train_test_split(X, y, random_state=42, test_size=0.2)\n",
        "X_val, X_test, y_val, y_test = train_test_split(X_test, y_test, random_state=42, test_size=0.5)\n",
        "print(\"X_train: \"+str(X_train.shape))\n",
        "print(\"X_test: \"+str(X_test.shape))\n",
        "print(\"X_val: \"+str(X_val.shape))\n",
        "print(\"y_train: \"+str(y_train.shape))\n",
        "print(\"y_test: \"+str(y_test.shape))\n",
        "print(\"y_val: \"+str(y_val.shape))\n",
        "\n",
        "from builtins import range\n",
        "from builtins import object\n",
        "\n",
        "num_training = X_train.shape[0]\n",
        "mask = list(range(num_training))\n",
        "X_train = X_train[mask]\n",
        "y_train = y_train[mask]\n",
        "\n",
        "num_test = X_test.shape[0]\n",
        "mask = list(range(num_test))\n",
        "X_test = X_test[mask]\n",
        "y_test = y_test[mask]\n",
        "\n",
        "num_val = X_val.shape[0]\n",
        "mask = list(range(num_val))\n",
        "X_val = X_val[mask]\n",
        "y_val = y_val[mask]\n",
        "\n",
        "X_train = np.reshape(X_train, (X_train.shape[0], -1))\n",
        "X_test = np.reshape(X_test, (X_test.shape[0], -1))\n",
        "X_val = np.reshape(X_val, (X_val.shape[0], -1))\n",
        "\n",
        "print(\"X_train: \"+str(X_train.shape))\n",
        "print(\"X_test: \"+str(X_test.shape))\n",
        "print(\"X_val: \"+str(X_val.shape))\n",
        "print(\"y_train: \"+str(y_train.shape))\n",
        "print(\"y_test: \"+str(y_test.shape))\n",
        "print(\"y_val: \"+str(y_val.shape))"
      ],
      "execution_count": 5,
      "outputs": [
        {
          "output_type": "stream",
          "text": [
            "X_train: (758, 50, 50, 1)\n",
            "X_test: (95, 50, 50, 1)\n",
            "X_val: (95, 50, 50, 1)\n",
            "y_train: (758,)\n",
            "y_test: (95,)\n",
            "y_val: (95,)\n",
            "X_train: (758, 2500)\n",
            "X_test: (95, 2500)\n",
            "X_val: (95, 2500)\n",
            "y_train: (758,)\n",
            "y_test: (95,)\n",
            "y_val: (95,)\n"
          ],
          "name": "stdout"
        }
      ]
    },
    {
      "cell_type": "code",
      "metadata": {
        "id": "t5vz1o98hYXj"
      },
      "source": [
        "class KNearestNeighbor(object):\n",
        "    def __init__(self):\n",
        "        pass\n",
        "\n",
        "    def predict_label(self, dists, k=1):\n",
        "        num_test = dists.shape[0]\n",
        "        y_pred = np.zeros(num_test)\n",
        "        for i in range(num_test):\n",
        "            closest_y = []\n",
        "            closest_y = self.y_train[np.argsort(dists[i])][0:k]\n",
        "            y_pred[i] = np.bincount(closest_y).argmax()\n",
        "        return y_pred\n",
        "\n",
        "    def train(self, X, y):\n",
        "        self.X_train = X\n",
        "        self.y_train = y\n",
        "\n",
        "    def predict(self, X, k=1):\n",
        "        dists = self.compute_distances_no_loops(X)\n",
        "\n",
        "        return self.predict_labels(dists, k=k)\n",
        "\n",
        "    def compute_distances_no_loops(self, X):\n",
        "        num_test = X.shape[0]\n",
        "        num_train = self.X_train.shape[0]\n",
        "        dists = np.zeros((num_test, num_train))\n",
        "        dists = np.sqrt((X ** 2).sum(axis=1, keepdims=1) + (self.X_train ** 2).sum(axis=1) - 2 * X.dot(self.X_train.T))\n",
        "\n",
        "        return dists\n",
        "\n",
        "    def predict_labels(self, dists, k=1):\n",
        "        num_test = dists.shape[0]\n",
        "        y_pred = np.zeros(num_test)\n",
        "        for i in range(num_test):\n",
        "            # A list of length k storing the labels of the k nearest neighbors to\n",
        "            # the ith test point.\n",
        "            closest_y = []\n",
        "            closest_y = self.y_train[np.argsort(dists[i])][0:k]\n",
        "            closest_y = closest_y.astype(int)\n",
        "            y_pred[i] = np.bincount(closest_y).argmax()\n",
        "        return y_pred"
      ],
      "execution_count": 7,
      "outputs": []
    },
    {
      "cell_type": "code",
      "metadata": {
        "colab": {
          "base_uri": "https://localhost:8080/"
        },
        "id": "NuY3NQichtWG",
        "outputId": "0b1dc911-ed8f-4328-d1aa-5e888e250eab"
      },
      "source": [
        "print(\"Validation Accuracy for k = 1\")\n",
        "classifier = KNearestNeighbor()\n",
        "classifier.train(X_train, y_train)\n",
        "dists = classifier.compute_distances_no_loops(X_val)\n",
        "y_val_pred = classifier.predict_labels(dists, k=1)\n",
        "num_correct = np.sum(y_val_pred == y_val)\n",
        "accuracy = float(num_correct) / num_val\n",
        "print('%d / %d correct => Accuracy = %f' % (num_correct, num_val, accuracy))"
      ],
      "execution_count": 9,
      "outputs": [
        {
          "output_type": "stream",
          "text": [
            "Validation Accuracy for k = 1\n",
            "68 / 95 correct => Accuracy = 0.715789\n",
            "Validation Accuracy for k = 1\n",
            "68 / 95 correct => Accuracy = 0.715789\n"
          ],
          "name": "stdout"
        }
      ]
    },
    {
      "cell_type": "code",
      "metadata": {
        "colab": {
          "base_uri": "https://localhost:8080/",
          "height": 282
        },
        "id": "M_5O9B2-h4q5",
        "outputId": "55f078dc-1894-4ac5-cf40-cef45bb5a459"
      },
      "source": [
        "lix = []\n",
        "liy = []\n",
        "index=0\n",
        "acc=0\n",
        "from sklearn.neighbors import KNeighborsClassifier\n",
        "for k in range(1, 100):\n",
        "    neigh = KNeighborsClassifier(n_neighbors=k)\n",
        "    neigh.fit(X_train, y_train)\n",
        "    liy.append(neigh.score(X_val, y_val))\n",
        "    if liy[k-1]>acc:\n",
        "        acc=liy[k-1]\n",
        "        index=k-1\n",
        "    lix.append(k)\n",
        "\n",
        "plt.plot(lix, liy)\n",
        "plt.show()\n",
        "print(\"Max. accuracy (\"+str(acc)+\") at k = \"+str(index+1))"
      ],
      "execution_count": 11,
      "outputs": [
        {
          "output_type": "display_data",
          "data": {
            "image/png": "[encoded data removed]",
            "text/plain": [
              "<Figure size 432x288 with 1 Axes>"
            ]
          },
          "metadata": {
            "tags": [],
            "needs_background": "light"
          }
        },
        {
          "output_type": "stream",
          "text": [
            "Max. accuracy (0.8210526315789474) at k = 10\n"
          ],
          "name": "stdout"
        }
      ]
    },
    {
      "cell_type": "code",
      "metadata": {
        "colab": {
          "base_uri": "https://localhost:8080/"
        },
        "id": "M2dNHs7fiIA5",
        "outputId": "c9cdd9bb-08ae-44e1-c7d9-95fbc94a2e3d"
      },
      "source": [
        "neigh = KNeighborsClassifier(n_neighbors=43)\n",
        "neigh.fit(X_train, y_train)\n",
        "print(\"Test Accuracy = \"+str(neigh.score(X_test, y_test)))\n",
        "\n",
        "classifier = KNearestNeighbor()\n",
        "classifier.train(X_train, y_train)\n",
        "dists = classifier.compute_distances_no_loops(X_test)\n",
        "y_test_pred = classifier.predict_labels(dists, k=43)\n",
        "num_correct = np.sum(y_test_pred == y_test)\n",
        "accuracy = float(num_correct) / num_test\n",
        "print('With k = 43, %d / %d correct => Accuracy = %f' % (num_correct, num_test, accuracy))"
      ],
      "execution_count": 13,
      "outputs": [
        {
          "output_type": "stream",
          "text": [
            "Test Accuracy = 0.7473684210526316\n",
            "With k = 43, 71 / 95 correct => Accuracy = 0.747368\n"
          ],
          "name": "stdout"
        }
      ]
    },
    {
      "cell_type": "code",
      "metadata": {
        "colab": {
          "base_uri": "https://localhost:8080/"
        },
        "id": "4RwUzOCUij05",
        "outputId": "703d7f08-9edb-42ea-8b3a-9a1baaa38dfa"
      },
      "source": [
        "img = cv.imread(\"British_Coast.jpg\")\n",
        "img = cv.cvtColor(img, cv.COLOR_BGR2GRAY)\n",
        "img_pred = cv.resize(img, (50, 50), interpolation=cv.INTER_AREA)\n",
        "img_pred = image.img_to_array(img_pred)\n",
        "img_pred = img_pred/255\n",
        "img_pred = np.reshape(img_pred, (1, img_pred.shape[0]*img_pred.shape[1]))\n",
        "\n",
        "classifier2 = KNearestNeighbor()\n",
        "classifier2.train(X_train, y_train)\n",
        "\n",
        "dists2 = classifier2.compute_distances_no_loops(img_pred)\n",
        "labels = [\"Coast\", \"Highway\", \"Forest\"]\n",
        "y_test_pred = classifier2.predict_labels(dists2, k=43)\n",
        "print(labels[int(y_test_pred)])"
      ],
      "execution_count": 18,
      "outputs": [
        {
          "output_type": "stream",
          "text": [
            "Coast\n"
          ],
          "name": "stdout"
        }
      ]
    }
  ]
}